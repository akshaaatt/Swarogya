{
 "cells": [
  {
   "cell_type": "code",
   "execution_count": 1,
   "metadata": {
    "colab": {
     "base_uri": "https://localhost:8080/"
    },
    "id": "233Ls6ea-gdX",
    "outputId": "f7d82d04-5611-41da-ac91-e370782e05b5"
   },
   "outputs": [
    {
     "name": "stdout",
     "output_type": "stream",
     "text": [
      "Downloading blood-cells.zip to /content\n",
      " 82% 89.0M/108M [00:01<00:00, 66.9MB/s]\n",
      "100% 108M/108M [00:01<00:00, 93.0MB/s] \n"
     ]
    }
   ],
   "source": [
    "import os\n",
    "os.environ['KAGGLE_USERNAME'] = \"\" # username from the json file\n",
    "os.environ['KAGGLE_KEY'] = \"\" # key from the json file\n",
    "!kaggle datasets download -d paultimothymooney/blood-cells # api copied from kaggle"
   ]
  },
  {
   "cell_type": "code",
   "execution_count": null,
   "metadata": {
    "id": "Xcy6Bvi4_G7z"
   },
   "outputs": [],
   "source": [
    "!unzip \"blood-cells.zip\" -d \"/content\""
   ]
  },
  {
   "cell_type": "code",
   "execution_count": 3,
   "metadata": {
    "id": "cTV3VHi0_Bmy"
   },
   "outputs": [],
   "source": [
    "import numpy as np\n",
    "import pandas as pd\n",
    "import plotly.express as px\n",
    "import matplotlib.pyplot as plt\n",
    "import seaborn as sns\n",
    "import tensorflow as tf\n",
    "from sklearn.metrics import accuracy_score, classification_report"
   ]
  },
  {
   "cell_type": "code",
   "execution_count": 4,
   "metadata": {
    "id": "e_VBr48N_buO"
   },
   "outputs": [],
   "source": [
    "train_dir = 'dataset2-master/dataset2-master/images/TRAIN'\n",
    "test_dir = 'dataset2-master/dataset2-master/images/TEST'"
   ]
  },
  {
   "cell_type": "code",
   "execution_count": 5,
   "metadata": {
    "id": "Plw1NWCK_nK_"
   },
   "outputs": [],
   "source": [
    "# Create generators\n",
    "\n",
    "train_gen = tf.keras.preprocessing.image.ImageDataGenerator(\n",
    "    preprocessing_function = tf.keras.applications.mobilenet_v2.preprocess_input , \n",
    "    validation_split= 0.2\n",
    ")\n",
    "\n",
    "test_gen = tf.keras.preprocessing.image.ImageDataGenerator(\n",
    "    preprocessing_function = tf.keras.applications.mobilenet_v2.preprocess_input , \n",
    "    validation_split= 0.2\n",
    ")"
   ]
  },
  {
   "cell_type": "code",
   "execution_count": 6,
   "metadata": {
    "colab": {
     "base_uri": "https://localhost:8080/"
    },
    "id": "WYLCD8wE_qLd",
    "outputId": "cdb503f8-de77-43c1-d1cc-1fe2838bd24f"
   },
   "outputs": [
    {
     "name": "stdout",
     "output_type": "stream",
     "text": [
      "Found 7968 images belonging to 4 classes.\n",
      "Found 1989 images belonging to 4 classes.\n",
      "Found 2487 images belonging to 4 classes.\n"
     ]
    }
   ],
   "source": [
    "# Flow image data \n",
    "\n",
    "train_images = train_gen.flow_from_directory(\n",
    "    directory = train_dir , target_size = (224,224) , color_mode = 'rgb' , \n",
    "    class_mode = 'categorical' , batch_size = 32 , shuffle= True , seed = 42,\n",
    "    subset = 'training'\n",
    ")\n",
    "\n",
    "val_images = train_gen.flow_from_directory(\n",
    "    directory = train_dir , target_size = (224,224) , color_mode = 'rgb' , \n",
    "    class_mode = 'categorical' , batch_size = 32 , shuffle= True , seed = 42,\n",
    "    subset = 'validation'\n",
    ")\n",
    "\n",
    "test_images = test_gen.flow_from_directory(\n",
    "    directory = test_dir , target_size = (224,224) , color_mode = 'rgb' , \n",
    "    class_mode = 'categorical' , batch_size = 32 , shuffle= False , seed = 42\n",
    ")"
   ]
  },
  {
   "cell_type": "code",
   "execution_count": 7,
   "metadata": {
    "colab": {
     "base_uri": "https://localhost:8080/"
    },
    "id": "tgbe4VFg_uRE",
    "outputId": "6681efa7-00b6-43ff-ec06-723609c8e923"
   },
   "outputs": [
    {
     "name": "stdout",
     "output_type": "stream",
     "text": [
      "Downloading data from https://storage.googleapis.com/tensorflow/keras-applications/mobilenet_v2/mobilenet_v2_weights_tf_dim_ordering_tf_kernels_1.0_224_no_top.h5\n",
      "9412608/9406464 [==============================] - 0s 0us/step\n"
     ]
    }
   ],
   "source": [
    "pretrained_model = tf.keras.applications.MobileNetV2(\n",
    "    input_shape=(224, 224, 3),\n",
    "    include_top=False,\n",
    "    weights='imagenet',\n",
    "    pooling='avg'\n",
    ")\n",
    "\n",
    "pretrained_model.trainable = False"
   ]
  },
  {
   "cell_type": "code",
   "execution_count": 8,
   "metadata": {
    "id": "AWcIjpLW_5lh"
   },
   "outputs": [],
   "source": [
    "inputs = pretrained_model.input\n",
    "x = tf.keras.layers.Dense(128,activation = 'relu')(pretrained_model.output)\n",
    "\n",
    "outputs = tf.keras.layers.Dense(4,activation='sigmoid')(x)\n",
    "\n",
    "model = tf.keras.Model(inputs = inputs , outputs = outputs)\n",
    "\n",
    "model.compile(\n",
    "    optimizer = 'adam' , \n",
    "    loss = 'categorical_crossentropy' , \n",
    "    metrics = ['accuracy']\n",
    ")"
   ]
  },
  {
   "cell_type": "code",
   "execution_count": 9,
   "metadata": {
    "colab": {
     "base_uri": "https://localhost:8080/"
    },
    "id": "QO6G8tdS_9wg",
    "outputId": "cb232f2e-40d8-4fce-9a7a-9b16f33279ca"
   },
   "outputs": [
    {
     "name": "stdout",
     "output_type": "stream",
     "text": [
      "Epoch 1/25\n",
      "249/249 [==============================] - 59s 98ms/step - loss: 1.0832 - accuracy: 0.5561 - val_loss: 0.5817 - val_accuracy: 0.7753\n",
      "Epoch 2/25\n",
      "249/249 [==============================] - 23s 93ms/step - loss: 0.5130 - accuracy: 0.8112 - val_loss: 0.4705 - val_accuracy: 0.8195\n",
      "Epoch 3/25\n",
      "249/249 [==============================] - 23s 92ms/step - loss: 0.3543 - accuracy: 0.8707 - val_loss: 0.3671 - val_accuracy: 0.8607\n",
      "Epoch 4/25\n",
      "249/249 [==============================] - 23s 92ms/step - loss: 0.2982 - accuracy: 0.8847 - val_loss: 0.4382 - val_accuracy: 0.8190\n",
      "Epoch 5/25\n",
      "249/249 [==============================] - 23s 91ms/step - loss: 0.2328 - accuracy: 0.9147 - val_loss: 0.2631 - val_accuracy: 0.9060\n",
      "Epoch 6/25\n",
      "249/249 [==============================] - 23s 91ms/step - loss: 0.1779 - accuracy: 0.9370 - val_loss: 0.3332 - val_accuracy: 0.8658\n",
      "Epoch 7/25\n",
      "249/249 [==============================] - 23s 91ms/step - loss: 0.1493 - accuracy: 0.9502 - val_loss: 0.2376 - val_accuracy: 0.9070\n",
      "Epoch 8/25\n",
      "249/249 [==============================] - 23s 91ms/step - loss: 0.1155 - accuracy: 0.9638 - val_loss: 0.3120 - val_accuracy: 0.8713\n",
      "Epoch 9/25\n",
      "249/249 [==============================] - 23s 91ms/step - loss: 0.1048 - accuracy: 0.9617 - val_loss: 0.2339 - val_accuracy: 0.9065\n",
      "Epoch 10/25\n",
      "249/249 [==============================] - 23s 91ms/step - loss: 0.0815 - accuracy: 0.9737 - val_loss: 0.1992 - val_accuracy: 0.9241\n",
      "Epoch 11/25\n",
      "249/249 [==============================] - 23s 90ms/step - loss: 0.0656 - accuracy: 0.9825 - val_loss: 0.2180 - val_accuracy: 0.9191\n",
      "Epoch 12/25\n",
      "249/249 [==============================] - 22s 90ms/step - loss: 0.0522 - accuracy: 0.9876 - val_loss: 0.1788 - val_accuracy: 0.9361\n",
      "Epoch 13/25\n",
      "249/249 [==============================] - 23s 90ms/step - loss: 0.0399 - accuracy: 0.9926 - val_loss: 0.2290 - val_accuracy: 0.9191\n",
      "Epoch 14/25\n",
      "249/249 [==============================] - 22s 90ms/step - loss: 0.0428 - accuracy: 0.9890 - val_loss: 0.2485 - val_accuracy: 0.9155\n",
      "Epoch 15/25\n",
      "249/249 [==============================] - 22s 90ms/step - loss: 0.0422 - accuracy: 0.9910 - val_loss: 0.1840 - val_accuracy: 0.9341\n"
     ]
    }
   ],
   "source": [
    "# Training \n",
    "\n",
    "history = model.fit(\n",
    "    train_images , \n",
    "    validation_data = val_images ,\n",
    "    epochs = 25 , \n",
    "    callbacks = [\n",
    "        tf.keras.callbacks.EarlyStopping(\n",
    "            monitor = 'val_loss' , \n",
    "            patience = 3,\n",
    "            restore_best_weights = True\n",
    "        )\n",
    "    ]\n",
    "    \n",
    ")"
   ]
  },
  {
   "cell_type": "code",
   "execution_count": 11,
   "metadata": {
    "colab": {
     "base_uri": "https://localhost:8080/"
    },
    "id": "f8PmI3L9AEAf",
    "outputId": "27e2e9cf-de72-4f8b-ba7a-5de951fe8bc1"
   },
   "outputs": [
    {
     "data": {
      "text/plain": [
       "array([1])"
      ]
     },
     "execution_count": 11,
     "metadata": {
      "tags": []
     },
     "output_type": "execute_result"
    }
   ],
   "source": [
    "from keras.preprocessing import image\n",
    "\n",
    "img_width, img_height = 224, 224\n",
    "img = image.load_img('/content/dataset2-master/dataset2-master/images/TEST_SIMPLE/LYMPHOCYTE/_1_4044.jpeg', target_size = (img_width, img_height, 3))\n",
    "img = image.img_to_array(img)\n",
    "img = np.expand_dims(img, axis = 0)\n",
    "np.argmax(model.predict(img), axis=1)"
   ]
  },
  {
   "cell_type": "code",
   "execution_count": 13,
   "metadata": {
    "id": "DXfeE6d5E6I6"
   },
   "outputs": [],
   "source": [
    "model.save(\"model1.h5\")"
   ]
  }
 ],
 "metadata": {
  "accelerator": "GPU",
  "colab": {
   "name": "2. Blood_Cell.ipynb",
   "provenance": []
  },
  "kernelspec": {
   "display_name": "Python 3",
   "language": "python",
   "name": "python3"
  },
  "language_info": {
   "codemirror_mode": {
    "name": "ipython",
    "version": 3
   },
   "file_extension": ".py",
   "mimetype": "text/x-python",
   "name": "python",
   "nbconvert_exporter": "python",
   "pygments_lexer": "ipython3",
   "version": "3.7.9"
  }
 },
 "nbformat": 4,
 "nbformat_minor": 1
}
