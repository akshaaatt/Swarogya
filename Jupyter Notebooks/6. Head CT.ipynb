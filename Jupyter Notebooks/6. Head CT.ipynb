{
 "cells": [
  {
   "cell_type": "code",
   "execution_count": 2,
   "metadata": {
    "colab": {
     "base_uri": "https://localhost:8080/"
    },
    "id": "_Df0b-xEJWXr",
    "outputId": "1213a93a-2e42-4013-ef02-3c3170deb5f7"
   },
   "outputs": [
    {
     "name": "stdout",
     "output_type": "stream",
     "text": [
      "head-ct-hemorrhage.zip: Skipping, found more recently modified local copy (use --force to force download)\n"
     ]
    }
   ],
   "source": [
    "import os\n",
    "os.environ['KAGGLE_USERNAME'] = \"\" # username from the json file\n",
    "os.environ['KAGGLE_KEY'] = \"\" # key from the json file\n",
    "!kaggle datasets download -d felipekitamura/head-ct-hemorrhage"
   ]
  },
  {
   "cell_type": "code",
   "execution_count": 3,
   "metadata": {
    "colab": {
     "base_uri": "https://localhost:8080/"
    },
    "id": "RJRglO5HNoeC",
    "outputId": "3b94cc71-2eb9-4fa7-a59a-3a440a561f1f"
   },
   "outputs": [
    {
     "name": "stdout",
     "output_type": "stream",
     "text": [
      "Archive:  /content/head-ct-hemorrhage.zip\n",
      "  inflating: /content/head_ct/head_ct/000.png  \n",
      "  inflating: /content/head_ct/head_ct/001.png  \n",
      "  inflating: /content/head_ct/head_ct/002.png  \n",
      "  inflating: /content/head_ct/head_ct/003.png  \n",
      "  inflating: /content/head_ct/head_ct/004.png  \n",
      "  inflating: /content/head_ct/head_ct/005.png  \n",
      "  inflating: /content/head_ct/head_ct/006.png  \n",
      "  inflating: /content/head_ct/head_ct/007.png  \n",
      "  inflating: /content/head_ct/head_ct/008.png  \n",
      "  inflating: /content/head_ct/head_ct/009.png  \n",
      "  inflating: /content/head_ct/head_ct/010.png  \n",
      "  inflating: /content/head_ct/head_ct/011.png  \n",
      "  inflating: /content/head_ct/head_ct/012.png  \n",
      "  inflating: /content/head_ct/head_ct/013.png  \n",
      "  inflating: /content/head_ct/head_ct/014.png  \n",
      "  inflating: /content/head_ct/head_ct/015.png  \n",
      "  inflating: /content/head_ct/head_ct/016.png  \n",
      "  inflating: /content/head_ct/head_ct/017.png  \n",
      "  inflating: /content/head_ct/head_ct/018.png  \n",
      "  inflating: /content/head_ct/head_ct/019.png  \n",
      "  inflating: /content/head_ct/head_ct/020.png  \n",
      "  inflating: /content/head_ct/head_ct/021.png  \n",
      "  inflating: /content/head_ct/head_ct/022.png  \n",
      "  inflating: /content/head_ct/head_ct/023.png  \n",
      "  inflating: /content/head_ct/head_ct/024.png  \n",
      "  inflating: /content/head_ct/head_ct/025.png  \n",
      "  inflating: /content/head_ct/head_ct/026.png  \n",
      "  inflating: /content/head_ct/head_ct/027.png  \n",
      "  inflating: /content/head_ct/head_ct/028.png  \n",
      "  inflating: /content/head_ct/head_ct/029.png  \n",
      "  inflating: /content/head_ct/head_ct/030.png  \n",
      "  inflating: /content/head_ct/head_ct/031.png  \n",
      "  inflating: /content/head_ct/head_ct/032.png  \n",
      "  inflating: /content/head_ct/head_ct/033.png  \n",
      "  inflating: /content/head_ct/head_ct/034.png  \n",
      "  inflating: /content/head_ct/head_ct/035.png  \n",
      "  inflating: /content/head_ct/head_ct/036.png  \n",
      "  inflating: /content/head_ct/head_ct/037.png  \n",
      "  inflating: /content/head_ct/head_ct/038.png  \n",
      "  inflating: /content/head_ct/head_ct/039.png  \n",
      "  inflating: /content/head_ct/head_ct/040.png  \n",
      "  inflating: /content/head_ct/head_ct/041.png  \n",
      "  inflating: /content/head_ct/head_ct/042.png  \n",
      "  inflating: /content/head_ct/head_ct/043.png  \n",
      "  inflating: /content/head_ct/head_ct/044.png  \n",
      "  inflating: /content/head_ct/head_ct/045.png  \n",
      "  inflating: /content/head_ct/head_ct/046.png  \n",
      "  inflating: /content/head_ct/head_ct/047.png  \n",
      "  inflating: /content/head_ct/head_ct/048.png  \n",
      "  inflating: /content/head_ct/head_ct/049.png  \n",
      "  inflating: /content/head_ct/head_ct/050.png  \n",
      "  inflating: /content/head_ct/head_ct/051.png  \n",
      "  inflating: /content/head_ct/head_ct/052.png  \n",
      "  inflating: /content/head_ct/head_ct/053.png  \n",
      "  inflating: /content/head_ct/head_ct/054.png  \n",
      "  inflating: /content/head_ct/head_ct/055.png  \n",
      "  inflating: /content/head_ct/head_ct/056.png  \n",
      "  inflating: /content/head_ct/head_ct/057.png  \n",
      "  inflating: /content/head_ct/head_ct/058.png  \n",
      "  inflating: /content/head_ct/head_ct/059.png  \n",
      "  inflating: /content/head_ct/head_ct/060.png  \n",
      "  inflating: /content/head_ct/head_ct/061.png  \n",
      "  inflating: /content/head_ct/head_ct/062.png  \n",
      "  inflating: /content/head_ct/head_ct/063.png  \n",
      "  inflating: /content/head_ct/head_ct/064.png  \n",
      "  inflating: /content/head_ct/head_ct/065.png  \n",
      "  inflating: /content/head_ct/head_ct/066.png  \n",
      "  inflating: /content/head_ct/head_ct/067.png  \n",
      "  inflating: /content/head_ct/head_ct/068.png  \n",
      "  inflating: /content/head_ct/head_ct/069.png  \n",
      "  inflating: /content/head_ct/head_ct/070.png  \n",
      "  inflating: /content/head_ct/head_ct/071.png  \n",
      "  inflating: /content/head_ct/head_ct/072.png  \n",
      "  inflating: /content/head_ct/head_ct/073.png  \n",
      "  inflating: /content/head_ct/head_ct/074.png  \n",
      "  inflating: /content/head_ct/head_ct/075.png  \n",
      "  inflating: /content/head_ct/head_ct/076.png  \n",
      "  inflating: /content/head_ct/head_ct/077.png  \n",
      "  inflating: /content/head_ct/head_ct/078.png  \n",
      "  inflating: /content/head_ct/head_ct/079.png  \n",
      "  inflating: /content/head_ct/head_ct/080.png  \n",
      "  inflating: /content/head_ct/head_ct/081.png  \n",
      "  inflating: /content/head_ct/head_ct/082.png  \n",
      "  inflating: /content/head_ct/head_ct/083.png  \n",
      "  inflating: /content/head_ct/head_ct/084.png  \n",
      "  inflating: /content/head_ct/head_ct/085.png  \n",
      "  inflating: /content/head_ct/head_ct/086.png  \n",
      "  inflating: /content/head_ct/head_ct/087.png  \n",
      "  inflating: /content/head_ct/head_ct/088.png  \n",
      "  inflating: /content/head_ct/head_ct/089.png  \n",
      "  inflating: /content/head_ct/head_ct/090.png  \n",
      "  inflating: /content/head_ct/head_ct/091.png  \n",
      "  inflating: /content/head_ct/head_ct/092.png  \n",
      "  inflating: /content/head_ct/head_ct/093.png  \n",
      "  inflating: /content/head_ct/head_ct/094.png  \n",
      "  inflating: /content/head_ct/head_ct/095.png  \n",
      "  inflating: /content/head_ct/head_ct/096.png  \n",
      "  inflating: /content/head_ct/head_ct/097.png  \n",
      "  inflating: /content/head_ct/head_ct/098.png  \n",
      "  inflating: /content/head_ct/head_ct/099.png  \n",
      "  inflating: /content/head_ct/head_ct/100.png  \n",
      "  inflating: /content/head_ct/head_ct/101.png  \n",
      "  inflating: /content/head_ct/head_ct/102.png  \n",
      "  inflating: /content/head_ct/head_ct/103.png  \n",
      "  inflating: /content/head_ct/head_ct/104.png  \n",
      "  inflating: /content/head_ct/head_ct/105.png  \n",
      "  inflating: /content/head_ct/head_ct/106.png  \n",
      "  inflating: /content/head_ct/head_ct/107.png  \n",
      "  inflating: /content/head_ct/head_ct/108.png  \n",
      "  inflating: /content/head_ct/head_ct/109.png  \n",
      "  inflating: /content/head_ct/head_ct/110.png  \n",
      "  inflating: /content/head_ct/head_ct/111.png  \n",
      "  inflating: /content/head_ct/head_ct/112.png  \n",
      "  inflating: /content/head_ct/head_ct/113.png  \n",
      "  inflating: /content/head_ct/head_ct/114.png  \n",
      "  inflating: /content/head_ct/head_ct/115.png  \n",
      "  inflating: /content/head_ct/head_ct/116.png  \n",
      "  inflating: /content/head_ct/head_ct/117.png  \n",
      "  inflating: /content/head_ct/head_ct/118.png  \n",
      "  inflating: /content/head_ct/head_ct/119.png  \n",
      "  inflating: /content/head_ct/head_ct/120.png  \n",
      "  inflating: /content/head_ct/head_ct/121.png  \n",
      "  inflating: /content/head_ct/head_ct/122.png  \n",
      "  inflating: /content/head_ct/head_ct/123.png  \n",
      "  inflating: /content/head_ct/head_ct/124.png  \n",
      "  inflating: /content/head_ct/head_ct/125.png  \n",
      "  inflating: /content/head_ct/head_ct/126.png  \n",
      "  inflating: /content/head_ct/head_ct/127.png  \n",
      "  inflating: /content/head_ct/head_ct/128.png  \n",
      "  inflating: /content/head_ct/head_ct/129.png  \n",
      "  inflating: /content/head_ct/head_ct/130.png  \n",
      "  inflating: /content/head_ct/head_ct/131.png  \n",
      "  inflating: /content/head_ct/head_ct/132.png  \n",
      "  inflating: /content/head_ct/head_ct/133.png  \n",
      "  inflating: /content/head_ct/head_ct/134.png  \n",
      "  inflating: /content/head_ct/head_ct/135.png  \n",
      "  inflating: /content/head_ct/head_ct/136.png  \n",
      "  inflating: /content/head_ct/head_ct/137.png  \n",
      "  inflating: /content/head_ct/head_ct/138.png  \n",
      "  inflating: /content/head_ct/head_ct/139.png  \n",
      "  inflating: /content/head_ct/head_ct/140.png  \n",
      "  inflating: /content/head_ct/head_ct/141.png  \n",
      "  inflating: /content/head_ct/head_ct/142.png  \n",
      "  inflating: /content/head_ct/head_ct/143.png  \n",
      "  inflating: /content/head_ct/head_ct/144.png  \n",
      "  inflating: /content/head_ct/head_ct/145.png  \n",
      "  inflating: /content/head_ct/head_ct/146.png  \n",
      "  inflating: /content/head_ct/head_ct/147.png  \n",
      "  inflating: /content/head_ct/head_ct/148.png  \n",
      "  inflating: /content/head_ct/head_ct/149.png  \n",
      "  inflating: /content/head_ct/head_ct/150.png  \n",
      "  inflating: /content/head_ct/head_ct/151.png  \n",
      "  inflating: /content/head_ct/head_ct/152.png  \n",
      "  inflating: /content/head_ct/head_ct/153.png  \n",
      "  inflating: /content/head_ct/head_ct/154.png  \n",
      "  inflating: /content/head_ct/head_ct/155.png  \n",
      "  inflating: /content/head_ct/head_ct/156.png  \n",
      "  inflating: /content/head_ct/head_ct/157.png  \n",
      "  inflating: /content/head_ct/head_ct/158.png  \n",
      "  inflating: /content/head_ct/head_ct/159.png  \n",
      "  inflating: /content/head_ct/head_ct/160.png  \n",
      "  inflating: /content/head_ct/head_ct/161.png  \n",
      "  inflating: /content/head_ct/head_ct/162.png  \n",
      "  inflating: /content/head_ct/head_ct/163.png  \n",
      "  inflating: /content/head_ct/head_ct/164.png  \n",
      "  inflating: /content/head_ct/head_ct/165.png  \n",
      "  inflating: /content/head_ct/head_ct/166.png  \n",
      "  inflating: /content/head_ct/head_ct/167.png  \n",
      "  inflating: /content/head_ct/head_ct/168.png  \n",
      "  inflating: /content/head_ct/head_ct/169.png  \n",
      "  inflating: /content/head_ct/head_ct/170.png  \n",
      "  inflating: /content/head_ct/head_ct/171.png  \n",
      "  inflating: /content/head_ct/head_ct/172.png  \n",
      "  inflating: /content/head_ct/head_ct/173.png  \n",
      "  inflating: /content/head_ct/head_ct/174.png  \n",
      "  inflating: /content/head_ct/head_ct/175.png  \n",
      "  inflating: /content/head_ct/head_ct/176.png  \n",
      "  inflating: /content/head_ct/head_ct/177.png  \n",
      "  inflating: /content/head_ct/head_ct/178.png  \n",
      "  inflating: /content/head_ct/head_ct/179.png  \n",
      "  inflating: /content/head_ct/head_ct/180.png  \n",
      "  inflating: /content/head_ct/head_ct/181.png  \n",
      "  inflating: /content/head_ct/head_ct/182.png  \n",
      "  inflating: /content/head_ct/head_ct/183.png  \n",
      "  inflating: /content/head_ct/head_ct/184.png  \n",
      "  inflating: /content/head_ct/head_ct/185.png  \n",
      "  inflating: /content/head_ct/head_ct/186.png  \n",
      "  inflating: /content/head_ct/head_ct/187.png  \n",
      "  inflating: /content/head_ct/head_ct/188.png  \n",
      "  inflating: /content/head_ct/head_ct/189.png  \n",
      "  inflating: /content/head_ct/head_ct/190.png  \n",
      "  inflating: /content/head_ct/head_ct/191.png  \n",
      "  inflating: /content/head_ct/head_ct/192.png  \n",
      "  inflating: /content/head_ct/head_ct/193.png  \n",
      "  inflating: /content/head_ct/head_ct/194.png  \n",
      "  inflating: /content/head_ct/head_ct/195.png  \n",
      "  inflating: /content/head_ct/head_ct/196.png  \n",
      "  inflating: /content/head_ct/head_ct/197.png  \n",
      "  inflating: /content/head_ct/head_ct/198.png  \n",
      "  inflating: /content/head_ct/head_ct/199.png  \n",
      "  inflating: /content/labels.csv     \n"
     ]
    }
   ],
   "source": [
    "!unzip \"/content/head-ct-hemorrhage.zip\" -d \"/content\""
   ]
  },
  {
   "cell_type": "code",
   "execution_count": 4,
   "metadata": {
    "id": "HpIqE93PJk1C"
   },
   "outputs": [],
   "source": [
    "import pandas as pd\n",
    "import numpy as np\n",
    "import matplotlib.pyplot as plt\n",
    "import seaborn as sns\n",
    "import cv2\n",
    "import glob"
   ]
  },
  {
   "cell_type": "code",
   "execution_count": 5,
   "metadata": {
    "colab": {
     "base_uri": "https://localhost:8080/"
    },
    "id": "L9zFaNzgNhUr",
    "outputId": "eee70d2d-5daa-43c7-943a-a8fbc174f2c5"
   },
   "outputs": [
    {
     "name": "stderr",
     "output_type": "stream",
     "text": [
      "/usr/local/lib/python3.7/dist-packages/ipykernel_launcher.py:5: VisibleDeprecationWarning: Creating an ndarray from ragged nested sequences (which is a list-or-tuple of lists-or-tuples-or ndarrays with different lengths or shapes) is deprecated. If you meant to do this, you must specify 'dtype=object' when creating the ndarray\n",
      "  \"\"\"\n"
     ]
    }
   ],
   "source": [
    "labels_df = pd.read_csv('labels.csv')\n",
    "labels = np.array(labels_df[' hemorrhage'].tolist())\n",
    "\n",
    "files = sorted(glob.glob('head_ct/head_ct/*.png'))\n",
    "images = np.array([cv2.imread(path) for path in files])"
   ]
  },
  {
   "cell_type": "code",
   "execution_count": 6,
   "metadata": {
    "id": "mCSjRE2uNzyr"
   },
   "outputs": [],
   "source": [
    "images_df = pd.DataFrame(images, columns=['image'])"
   ]
  },
  {
   "cell_type": "code",
   "execution_count": 7,
   "metadata": {
    "id": "Xc_hum4mN3j6"
   },
   "outputs": [],
   "source": [
    "images_df['width'] = images_df['image'].apply(lambda x: x.shape[0])\n",
    "images_df['height'] = images_df['image'].apply(lambda x: x.shape[1])"
   ]
  },
  {
   "cell_type": "code",
   "execution_count": 8,
   "metadata": {
    "id": "dZnhT3ChN5p7"
   },
   "outputs": [],
   "source": [
    "images = np.array([cv2.resize(image, (128, 128)) for image in images])"
   ]
  },
  {
   "cell_type": "code",
   "execution_count": 10,
   "metadata": {
    "colab": {
     "base_uri": "https://localhost:8080/"
    },
    "id": "6c_bNm-XN_Rc",
    "outputId": "468f68e9-5eec-4836-d01e-73e69e99e596"
   },
   "outputs": [
    {
     "name": "stdout",
     "output_type": "stream",
     "text": [
      "(180, 128, 128, 3) (20, 128, 128, 3)\n",
      "(180,) (20,)\n"
     ]
    }
   ],
   "source": [
    "indicies = np.random.permutation(100)\n",
    "train_true_idx, test_true_idx = indicies[:90], indicies[90:]\n",
    "train_false_idx, test_false_idx = indicies[:90] + 100, indicies[90:] + 100\n",
    "train_idx, test_idx = np.append(train_true_idx, train_false_idx), np.append(test_true_idx, test_false_idx)\n",
    "\n",
    "train_validationX, train_validationY = images[train_idx], labels[train_idx]\n",
    "testX, testY = images[test_idx], labels[test_idx]\n",
    "\n",
    "print(train_validationX.shape, testX.shape)\n",
    "print(train_validationY.shape, testY.shape)"
   ]
  },
  {
   "cell_type": "code",
   "execution_count": 11,
   "metadata": {
    "colab": {
     "base_uri": "https://localhost:8080/"
    },
    "id": "QnMIw0e6OC-i",
    "outputId": "349e2bc4-b560-4344-df1e-16f1084701f8"
   },
   "outputs": [
    {
     "name": "stdout",
     "output_type": "stream",
     "text": [
      "(162, 128, 128, 3) (18, 128, 128, 3)\n",
      "(162,) (18,)\n"
     ]
    }
   ],
   "source": [
    "tr_len = train_validationX.shape[0]\n",
    "train_val_split = int(tr_len*0.9)\n",
    "indicies = np.random.permutation(tr_len)\n",
    "train_idx, validation_idx = indicies[:train_val_split], indicies[train_val_split:]\n",
    "\n",
    "trainX, trainY = train_validationX[train_idx], train_validationY[train_idx]\n",
    "validationX, validationY = train_validationX[validation_idx], train_validationY[validation_idx]\n",
    "\n",
    "print(trainX.shape, validationX.shape)\n",
    "print(trainY.shape, validationY.shape)"
   ]
  },
  {
   "cell_type": "code",
   "execution_count": 12,
   "metadata": {
    "id": "sCo8TH8COFgJ"
   },
   "outputs": [],
   "source": [
    "import keras\n",
    "from keras.models import Sequential\n",
    "from keras.layers import Dense, Input, Flatten, Dropout, Conv2D, MaxPooling2D, GlobalAveragePooling2D, GlobalMaxPooling2D\n",
    "from keras.callbacks import ModelCheckpoint\n",
    "from keras.preprocessing.image import ImageDataGenerator\n",
    "from sklearn.metrics import confusion_matrix\n",
    "import math"
   ]
  },
  {
   "cell_type": "code",
   "execution_count": 13,
   "metadata": {
    "id": "O3qFkK4sOJzD"
   },
   "outputs": [],
   "source": [
    "train_image_data = ImageDataGenerator(\n",
    "    rescale=1./255,\n",
    "    shear_range=0.,\n",
    "    zoom_range=0.05,\n",
    "    rotation_range=180,\n",
    "    width_shift_range=0.05,\n",
    "    height_shift_range=0.05,\n",
    "    horizontal_flip=True,\n",
    "    vertical_flip=True,\n",
    "    fill_mode='constant',\n",
    "    cval=0\n",
    ")\n",
    "validation_image_data = ImageDataGenerator(\n",
    "    rescale=1./255,\n",
    "    shear_range=0.,\n",
    "    zoom_range=0.05,\n",
    "    rotation_range=90,\n",
    "    width_shift_range=0.05,\n",
    "    height_shift_range=0.05,\n",
    "    horizontal_flip=True,\n",
    "    vertical_flip=True,\n",
    "    fill_mode='constant',\n",
    "    cval=0)"
   ]
  },
  {
   "cell_type": "code",
   "execution_count": 15,
   "metadata": {
    "id": "GYbSCFtqOQ_S"
   },
   "outputs": [],
   "source": [
    "def check_accuracy(model, setX, actual, print_images=True):\n",
    "    predicted = np.array([int(x[0] > 0.5) for x in model.predict(setX)])\n",
    "    if print_images:\n",
    "        rows = math.ceil(len(predicted)/10.)\n",
    "        plt.figure(figsize=(20, 3 * rows))\n",
    "        for i in range(len(predicted)):\n",
    "            plt.subplot(rows, 10, i+1)\n",
    "            plt.imshow(setX[i])\n",
    "            plt.title(\"pred \"+str(predicted[i])+\" actual \"+str(actual[i]))\n",
    "        \n",
    "    confusion = confusion_matrix(actual, predicted)\n",
    "    tn, fp, fn, tp = confusion.ravel()\n",
    "    print(\"True positive:\", tp, \", True negative:\", tn,\n",
    "          \", False positive:\", fp, \", False negative:\", fn)\n",
    "\n",
    "    print(\"Total accuracy:\", np.sum(predicted==actual) / len(predicted) * 100., \"%\")\n",
    "    return (tn, fp, fn, tp)"
   ]
  },
  {
   "cell_type": "code",
   "execution_count": 16,
   "metadata": {
    "colab": {
     "base_uri": "https://localhost:8080/"
    },
    "id": "4PY3tuy3OyHB",
    "outputId": "72569a54-d9c3-4974-e9fb-a2cd7849c2d7"
   },
   "outputs": [
    {
     "name": "stdout",
     "output_type": "stream",
     "text": [
      "(243, 128, 128, 3) (243,)\n"
     ]
    }
   ],
   "source": [
    "def imbalance_set(coeff=2):\n",
    "    imbalanced_trainX = []\n",
    "    imbalanced_trainY = []\n",
    "    for i, train_x in enumerate(trainX):\n",
    "        def add_entry(x, y):\n",
    "            imbalanced_trainX.append(x)\n",
    "            imbalanced_trainY.append(y)\n",
    "\n",
    "        add_entry(train_x, trainY[i])\n",
    "\n",
    "        if(trainY[i] == 1):\n",
    "            for j in range(coeff-1):\n",
    "                add_entry(train_x, trainY[i])\n",
    "    return (np.array(imbalanced_trainX), np.array(imbalanced_trainY))\n",
    "\n",
    "imbalanced_trainX, imbalanced_trainY = imbalance_set(2)\n",
    "print(imbalanced_trainX.shape, imbalanced_trainY.shape)"
   ]
  },
  {
   "cell_type": "code",
   "execution_count": 21,
   "metadata": {
    "id": "2jGKHhKvO3at"
   },
   "outputs": [],
   "source": [
    "def Model(input_shape):\n",
    "    model = Sequential()\n",
    "    \n",
    "    model.add(Conv2D(32, kernel_size=3, strides=2, padding='same', activation='relu', input_shape=input_shape))\n",
    "    model.add(MaxPooling2D(pool_size=2))\n",
    "    model.add(Conv2D(32, kernel_size=3, strides=2, padding='same', activation='relu'))\n",
    "    model.add(MaxPooling2D(pool_size=2))\n",
    "    model.add(Conv2D(64, kernel_size=3, strides=2, padding='same', activation='relu'))\n",
    "    \n",
    "    model.add(GlobalAveragePooling2D())\n",
    "    model.add(Dropout(0.4))\n",
    "    \n",
    "    model.add(Dense(64, activation='relu'))\n",
    "    model.add(Dropout(0.4))\n",
    "    \n",
    "    model.add(Dense(1, activation='sigmoid'))\n",
    "    return model"
   ]
  },
  {
   "cell_type": "code",
   "execution_count": 22,
   "metadata": {
    "colab": {
     "base_uri": "https://localhost:8080/"
    },
    "id": "vUhCwgkfO5m7",
    "outputId": "3c3ea2f7-9b30-451e-c0ca-456ca6a6c1d1"
   },
   "outputs": [
    {
     "name": "stdout",
     "output_type": "stream",
     "text": [
      "Model: \"sequential_2\"\n",
      "_________________________________________________________________\n",
      "Layer (type)                 Output Shape              Param #   \n",
      "=================================================================\n",
      "conv2d_6 (Conv2D)            (None, 64, 64, 32)        896       \n",
      "_________________________________________________________________\n",
      "max_pooling2d_4 (MaxPooling2 (None, 32, 32, 32)        0         \n",
      "_________________________________________________________________\n",
      "conv2d_7 (Conv2D)            (None, 16, 16, 32)        9248      \n",
      "_________________________________________________________________\n",
      "max_pooling2d_5 (MaxPooling2 (None, 8, 8, 32)          0         \n",
      "_________________________________________________________________\n",
      "conv2d_8 (Conv2D)            (None, 4, 4, 64)          18496     \n",
      "_________________________________________________________________\n",
      "global_average_pooling2d_2 ( (None, 64)                0         \n",
      "_________________________________________________________________\n",
      "dropout_4 (Dropout)          (None, 64)                0         \n",
      "_________________________________________________________________\n",
      "dense_4 (Dense)              (None, 64)                4160      \n",
      "_________________________________________________________________\n",
      "dropout_5 (Dropout)          (None, 64)                0         \n",
      "_________________________________________________________________\n",
      "dense_5 (Dense)              (None, 1)                 65        \n",
      "=================================================================\n",
      "Total params: 32,865\n",
      "Trainable params: 32,865\n",
      "Non-trainable params: 0\n",
      "_________________________________________________________________\n"
     ]
    }
   ],
   "source": [
    "model = Model((128, 128, 3))\n",
    "model.compile(loss='binary_crossentropy', optimizer='rmsprop', metrics=['accuracy'])\n",
    "model.summary()"
   ]
  },
  {
   "cell_type": "code",
   "execution_count": 23,
   "metadata": {
    "colab": {
     "base_uri": "https://localhost:8080/"
    },
    "id": "eunimnFlPBeI",
    "outputId": "499ebc8c-5bff-44a9-b76a-36adc9acacc8"
   },
   "outputs": [
    {
     "name": "stderr",
     "output_type": "stream",
     "text": [
      "/usr/local/lib/python3.7/dist-packages/tensorflow/python/keras/engine/training.py:1844: UserWarning: `Model.fit_generator` is deprecated and will be removed in a future version. Please use `Model.fit`, which supports generators.\n",
      "  warnings.warn('`Model.fit_generator` is deprecated and '\n"
     ]
    },
    {
     "name": "stdout",
     "output_type": "stream",
     "text": [
      "Epoch 1/24\n",
      "32/32 [==============================] - ETA: 0s - loss: 0.6807 - accuracy: 0.5922WARNING:tensorflow:Your input ran out of data; interrupting training. Make sure that your dataset or generator can generate at least `steps_per_epoch * epochs` batches (in this case, 100 batches). You may need to use the repeat() function when building your dataset.\n",
      "32/32 [==============================] - 2s 38ms/step - loss: 0.6796 - accuracy: 0.5939 - val_loss: 0.7378 - val_accuracy: 0.5000\n",
      "Epoch 2/24\n",
      "32/32 [==============================] - 1s 29ms/step - loss: 0.6269 - accuracy: 0.6984\n",
      "Epoch 3/24\n",
      "32/32 [==============================] - 1s 29ms/step - loss: 0.5923 - accuracy: 0.7335\n",
      "Epoch 4/24\n",
      "32/32 [==============================] - 1s 28ms/step - loss: 0.6197 - accuracy: 0.6683\n",
      "Epoch 5/24\n",
      "32/32 [==============================] - 1s 29ms/step - loss: 0.6574 - accuracy: 0.6452\n",
      "Epoch 6/24\n",
      "32/32 [==============================] - 1s 28ms/step - loss: 0.6241 - accuracy: 0.7030\n",
      "Epoch 7/24\n",
      "32/32 [==============================] - 1s 29ms/step - loss: 0.6516 - accuracy: 0.6976\n",
      "Epoch 8/24\n",
      "32/32 [==============================] - 1s 29ms/step - loss: 0.6216 - accuracy: 0.6771\n",
      "Epoch 9/24\n",
      "32/32 [==============================] - 1s 29ms/step - loss: 0.6601 - accuracy: 0.5658\n",
      "Epoch 10/24\n",
      "32/32 [==============================] - 1s 29ms/step - loss: 0.6416 - accuracy: 0.6216\n",
      "Epoch 11/24\n",
      "32/32 [==============================] - 1s 28ms/step - loss: 0.6306 - accuracy: 0.6913\n",
      "Epoch 12/24\n",
      "32/32 [==============================] - 1s 29ms/step - loss: 0.6871 - accuracy: 0.5892\n",
      "Epoch 13/24\n",
      "32/32 [==============================] - 1s 28ms/step - loss: 0.7002 - accuracy: 0.5747\n",
      "Epoch 14/24\n",
      "32/32 [==============================] - 1s 29ms/step - loss: 0.6601 - accuracy: 0.6404\n",
      "Epoch 15/24\n",
      "32/32 [==============================] - 1s 30ms/step - loss: 0.5720 - accuracy: 0.6785\n",
      "Epoch 16/24\n",
      "32/32 [==============================] - 1s 29ms/step - loss: 0.6014 - accuracy: 0.7172\n",
      "Epoch 17/24\n",
      "32/32 [==============================] - 1s 29ms/step - loss: 0.6030 - accuracy: 0.7268\n",
      "Epoch 18/24\n",
      "32/32 [==============================] - 1s 29ms/step - loss: 0.6054 - accuracy: 0.6782\n",
      "Epoch 19/24\n",
      "32/32 [==============================] - 1s 29ms/step - loss: 0.6425 - accuracy: 0.6184\n",
      "Epoch 20/24\n",
      "32/32 [==============================] - 1s 29ms/step - loss: 0.6012 - accuracy: 0.6625\n",
      "Epoch 21/24\n",
      "32/32 [==============================] - 1s 28ms/step - loss: 0.5992 - accuracy: 0.6812\n",
      "Epoch 22/24\n",
      "32/32 [==============================] - 1s 28ms/step - loss: 0.6346 - accuracy: 0.6504\n",
      "Epoch 23/24\n",
      "32/32 [==============================] - 1s 29ms/step - loss: 0.6321 - accuracy: 0.6500\n",
      "Epoch 24/24\n",
      "32/32 [==============================] - 1s 29ms/step - loss: 0.6542 - accuracy: 0.5382\n"
     ]
    },
    {
     "data": {
      "text/plain": [
       "<tensorflow.python.keras.callbacks.History at 0x7f1e3df27e10>"
      ]
     },
     "execution_count": 23,
     "metadata": {
      "tags": []
     },
     "output_type": "execute_result"
    }
   ],
   "source": [
    "model.fit_generator(train_image_data.flow(imbalanced_trainX, imbalanced_trainY, batch_size=4),\n",
    "    steps_per_epoch=32,\n",
    "    validation_data=validation_image_data.flow(validationX, validationY, batch_size=16),\n",
    "    validation_steps=100,\n",
    "    epochs=24)"
   ]
  },
  {
   "cell_type": "code",
   "execution_count": 24,
   "metadata": {
    "colab": {
     "base_uri": "https://localhost:8080/"
    },
    "id": "_QicZ1rLPGc2",
    "outputId": "df6942f8-eb9a-4a6c-e95d-01fa8b6ad0b1"
   },
   "outputs": [
    {
     "name": "stdout",
     "output_type": "stream",
     "text": [
      "True positive: 81 , True negative: 0 , False positive: 81 , False negative: 0\n",
      "Total accuracy: 50.0 %\n"
     ]
    },
    {
     "data": {
      "text/plain": [
       "(0, 81, 0, 81)"
      ]
     },
     "execution_count": 24,
     "metadata": {
      "tags": []
     },
     "output_type": "execute_result"
    }
   ],
   "source": [
    "check_accuracy(model, trainX/255., trainY, False)"
   ]
  },
  {
   "cell_type": "code",
   "execution_count": 25,
   "metadata": {
    "colab": {
     "base_uri": "https://localhost:8080/"
    },
    "id": "P7578UqWQG-F",
    "outputId": "56f2b5b3-6cf5-486a-8544-207c552b97bf"
   },
   "outputs": [
    {
     "name": "stdout",
     "output_type": "stream",
     "text": [
      "True positive: 9 , True negative: 0 , False positive: 9 , False negative: 0\n",
      "Total accuracy: 50.0 %\n"
     ]
    },
    {
     "data": {
      "text/plain": [
       "(0, 9, 0, 9)"
      ]
     },
     "execution_count": 25,
     "metadata": {
      "tags": []
     },
     "output_type": "execute_result"
    }
   ],
   "source": [
    "check_accuracy(model, validationX/255., validationY, False)"
   ]
  },
  {
   "cell_type": "code",
   "execution_count": 26,
   "metadata": {
    "colab": {
     "base_uri": "https://localhost:8080/"
    },
    "id": "UFR4q300QKpG",
    "outputId": "10075224-c71b-4ad8-c8a2-363f4762a2ac"
   },
   "outputs": [
    {
     "data": {
      "text/plain": [
       "array([0])"
      ]
     },
     "execution_count": 26,
     "metadata": {
      "tags": []
     },
     "output_type": "execute_result"
    }
   ],
   "source": [
    "\n",
    "from keras.preprocessing import image\n",
    "\n",
    "img_width, img_height = 128, 128\n",
    "img = image.load_img('/content/head_ct/head_ct/000.png', target_size = (img_width, img_height))\n",
    "img = image.img_to_array(img)\n",
    "img = np.expand_dims(img, axis = 0)\n",
    "np.argmax(model.predict(img), axis=1)"
   ]
  },
  {
   "cell_type": "code",
   "execution_count": null,
   "metadata": {
    "id": "oU84nji3QcMx"
   },
   "outputs": [],
   "source": []
  }
 ],
 "metadata": {
  "accelerator": "GPU",
  "colab": {
   "collapsed_sections": [],
   "name": "8. Head CT.ipynb",
   "provenance": []
  },
  "kernelspec": {
   "display_name": "Python 3",
   "language": "python",
   "name": "python3"
  },
  "language_info": {
   "codemirror_mode": {
    "name": "ipython",
    "version": 3
   },
   "file_extension": ".py",
   "mimetype": "text/x-python",
   "name": "python",
   "nbconvert_exporter": "python",
   "pygments_lexer": "ipython3",
   "version": "3.7.9"
  }
 },
 "nbformat": 4,
 "nbformat_minor": 1
}
